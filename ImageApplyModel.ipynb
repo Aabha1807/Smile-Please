{
 "cells": [
  {
   "cell_type": "code",
   "execution_count": 4,
   "id": "78903da4-00fd-476f-b80a-1bd0ff03b19e",
   "metadata": {},
   "outputs": [],
   "source": [
    "import tensorflow as tf\n",
    "import cv2\n",
    "import matplotlib.pyplot as plt\n",
    "import numpy as np\n"
   ]
  },
  {
   "cell_type": "code",
   "execution_count": 5,
   "id": "b4748d3d-9bd9-4da6-907f-2e921b5094f9",
   "metadata": {},
   "outputs": [],
   "source": [
    "import matplotlib.pyplot as plt\n",
    "import matplotlib.image as mpimg\n",
    "import cv2\n",
    "\n",
    "def face_detection(image):\n",
    "    # Read in the image\n",
    "   # img = mpimg.imread(image)\n",
    "    img = cv2.imread(image)\n",
    "\n",
    "\n",
    "    # Detect the faces in image\n",
    "    face_cascade = cv2.CascadeClassifier(cv2.data.haarcascades + 'haarcascade_frontalface_default.xml')\n",
    "\n",
    "    gray_img = cv2.cvtColor(img, cv2.COLOR_BGR2GRAY)\n",
    "    faces = face_cascade.detectMultiScale(gray_img, scaleFactor = 1.3, minNeighbors = 5)\n",
    "    print(type(faces))\n",
    "    print(faces)\n",
    "\n",
    "    for x,y,w,h in faces:\n",
    "        img = cv2.rectangle(img, (x, y), (x+w, y+h), (255,0,0), 1)\n",
    "\n",
    "    # plt.imshow(img)\n",
    "    # plt.show()\n",
    "\n",
    "    for x,y,w,h in faces:\n",
    "       extracted_img = img[y:y+h, x:x+w]\n",
    "       # plt.imshow(extracted_img)\n",
    "       # plt.show()\n",
    "    extracted_img= cv2.resize(extracted_img, (48, 48),interpolation=cv2.INTER_LANCZOS4)\n",
    "    # plt.imshow(extracted_img)\n",
    "    # plt.show()\n",
    "    return extracted_img"
   ]
  },
  {
   "cell_type": "code",
   "execution_count": 6,
   "id": "a1f89251-9173-4ce7-a3b2-8a086dd5711a",
   "metadata": {},
   "outputs": [],
   "source": [
    "def result_image(image_path):\n",
    "    image = []\n",
    "    try:\n",
    "        return face_detection(image_path)\n",
    "    except:\n",
    "        return image\n"
   ]
  },
  {
   "cell_type": "code",
   "execution_count": 7,
   "id": "6226da3d-9553-487c-b8f6-099bb9e17d03",
   "metadata": {},
   "outputs": [],
   "source": [
    "def evaluation(result):\n",
    "    classification = \"\"\n",
    "    if ( result <= 0.5 ) : \n",
    "        classification = \"Happy\" \n",
    "    else: \n",
    "        classification = \"Not Happy\"\n",
    "    return classification"
   ]
  },
  {
   "cell_type": "code",
   "execution_count": 8,
   "id": "04562b67-ec11-4017-8eaa-137e2a7cfa96",
   "metadata": {},
   "outputs": [],
   "source": [
    "def determine_face(image_path):\n",
    "    result = result_image(image_path)\n",
    "    value = \"Not Happy\"\n",
    "    if len(result) == 0:\n",
    "        print(\"empty\")\n",
    "    if len(result) != 0: \n",
    "        model = tf.keras.models.load_model(\"model.h5\")\n",
    "        print(model)\n",
    "        plt.imshow(result)\n",
    "        img = np.expand_dims(result, 0)\n",
    "        result = model.predict(img)\n",
    "        value = evaluation(result)\n",
    "        print(value)\n",
    "        print(result)\n",
    "    return value\n",
    "\n",
    "    "
   ]
  },
  {
   "cell_type": "code",
   "execution_count": 22,
   "id": "f956edd4-bb9e-492a-8002-dfc4f174a20f",
   "metadata": {},
   "outputs": [
    {
     "name": "stdout",
     "output_type": "stream",
     "text": [
      "Capturing image 1/30...\n",
      "0.5\n",
      "Image 1 saved as: /home/pi/Desktop/captured_images/Images/image_1.jpg\n",
      "/home/pi/Desktop/captured_images/Images/image_1.jpg\n",
      "<class 'numpy.ndarray'>\n",
      "[[186 161 314 314]]\n"
     ]
    },
    {
     "name": "stderr",
     "output_type": "stream",
     "text": [
      "WARNING:absl:Compiled the loaded model, but the compiled metrics have yet to be built. `model.compile_metrics` will be empty until you train or evaluate the model.\n"
     ]
    },
    {
     "name": "stdout",
     "output_type": "stream",
     "text": [
      "<Sequential name=sequential_7, built=True>\n",
      "\u001b[1m1/1\u001b[0m \u001b[32m━━━━━━━━━━━━━━━━━━━━\u001b[0m\u001b[37m\u001b[0m \u001b[1m0s\u001b[0m 413ms/step\n",
      "Not Happy\n",
      "[[1.]]\n",
      "Capturing image 1/30...\n",
      "0.5\n",
      "Image 1 saved as: /home/pi/Desktop/captured_images/Images/image_1.jpg\n",
      "/home/pi/Desktop/captured_images/Images/image_1.jpg\n",
      "<class 'numpy.ndarray'>\n",
      "[[187 154 317 317]]\n"
     ]
    },
    {
     "name": "stderr",
     "output_type": "stream",
     "text": [
      "WARNING:absl:Compiled the loaded model, but the compiled metrics have yet to be built. `model.compile_metrics` will be empty until you train or evaluate the model.\n"
     ]
    },
    {
     "name": "stdout",
     "output_type": "stream",
     "text": [
      "<Sequential name=sequential_7, built=True>\n",
      "\u001b[1m1/1\u001b[0m \u001b[32m━━━━━━━━━━━━━━━━━━━━\u001b[0m\u001b[37m\u001b[0m \u001b[1m0s\u001b[0m 428ms/step\n",
      "Not Happy\n",
      "[[1.]]\n",
      "Capturing image 1/30...\n",
      "0.5\n",
      "Image 1 saved as: /home/pi/Desktop/captured_images/Images/image_1.jpg\n",
      "/home/pi/Desktop/captured_images/Images/image_1.jpg\n",
      "<class 'tuple'>\n",
      "()\n",
      "empty\n",
      "Capturing image 1/30...\n",
      "0.5\n",
      "Image 1 saved as: /home/pi/Desktop/captured_images/Images/image_1.jpg\n",
      "/home/pi/Desktop/captured_images/Images/image_1.jpg\n",
      "<class 'numpy.ndarray'>\n",
      "[[182 162 303 303]]\n"
     ]
    },
    {
     "name": "stderr",
     "output_type": "stream",
     "text": [
      "WARNING:absl:Compiled the loaded model, but the compiled metrics have yet to be built. `model.compile_metrics` will be empty until you train or evaluate the model.\n"
     ]
    },
    {
     "name": "stdout",
     "output_type": "stream",
     "text": [
      "<Sequential name=sequential_7, built=True>\n",
      "\u001b[1m1/1\u001b[0m \u001b[32m━━━━━━━━━━━━━━━━━━━━\u001b[0m\u001b[37m\u001b[0m \u001b[1m0s\u001b[0m 331ms/step\n",
      "Not Happy\n",
      "[[0.9999998]]\n",
      "Capturing image 1/30...\n",
      "0.5\n",
      "Image 1 saved as: /home/pi/Desktop/captured_images/Images/image_1.jpg\n",
      "/home/pi/Desktop/captured_images/Images/image_1.jpg\n",
      "<class 'numpy.ndarray'>\n",
      "[[180 140 292 292]]\n"
     ]
    },
    {
     "name": "stderr",
     "output_type": "stream",
     "text": [
      "WARNING:absl:Compiled the loaded model, but the compiled metrics have yet to be built. `model.compile_metrics` will be empty until you train or evaluate the model.\n"
     ]
    },
    {
     "name": "stdout",
     "output_type": "stream",
     "text": [
      "<Sequential name=sequential_7, built=True>\n",
      "\u001b[1m1/1\u001b[0m \u001b[32m━━━━━━━━━━━━━━━━━━━━\u001b[0m\u001b[37m\u001b[0m \u001b[1m0s\u001b[0m 370ms/step\n",
      "Not Happy\n",
      "[[1.]]\n",
      "Capturing image 1/30...\n",
      "0.5\n",
      "Image 1 saved as: /home/pi/Desktop/captured_images/Images/image_1.jpg\n",
      "/home/pi/Desktop/captured_images/Images/image_1.jpg\n",
      "<class 'numpy.ndarray'>\n",
      "[[179 143 293 293]]\n"
     ]
    },
    {
     "name": "stderr",
     "output_type": "stream",
     "text": [
      "WARNING:absl:Compiled the loaded model, but the compiled metrics have yet to be built. `model.compile_metrics` will be empty until you train or evaluate the model.\n"
     ]
    },
    {
     "name": "stdout",
     "output_type": "stream",
     "text": [
      "<Sequential name=sequential_7, built=True>\n",
      "\u001b[1m1/1\u001b[0m \u001b[32m━━━━━━━━━━━━━━━━━━━━\u001b[0m\u001b[37m\u001b[0m \u001b[1m0s\u001b[0m 348ms/step\n",
      "Not Happy\n",
      "[[1.]]\n",
      "Capturing image 1/30...\n",
      "0.5\n",
      "Image 1 saved as: /home/pi/Desktop/captured_images/Images/image_1.jpg\n",
      "/home/pi/Desktop/captured_images/Images/image_1.jpg\n",
      "<class 'numpy.ndarray'>\n",
      "[[165 152 292 292]]\n"
     ]
    },
    {
     "name": "stderr",
     "output_type": "stream",
     "text": [
      "WARNING:absl:Compiled the loaded model, but the compiled metrics have yet to be built. `model.compile_metrics` will be empty until you train or evaluate the model.\n"
     ]
    },
    {
     "name": "stdout",
     "output_type": "stream",
     "text": [
      "<Sequential name=sequential_7, built=True>\n",
      "\u001b[1m1/1\u001b[0m \u001b[32m━━━━━━━━━━━━━━━━━━━━\u001b[0m\u001b[37m\u001b[0m \u001b[1m0s\u001b[0m 345ms/step\n",
      "Not Happy\n",
      "[[1.]]\n",
      "Capturing image 1/30...\n",
      "0.5\n",
      "Image 1 saved as: /home/pi/Desktop/captured_images/Images/image_1.jpg\n",
      "/home/pi/Desktop/captured_images/Images/image_1.jpg\n",
      "<class 'numpy.ndarray'>\n",
      "[[163 144 294 294]]\n"
     ]
    },
    {
     "name": "stderr",
     "output_type": "stream",
     "text": [
      "WARNING:absl:Compiled the loaded model, but the compiled metrics have yet to be built. `model.compile_metrics` will be empty until you train or evaluate the model.\n"
     ]
    },
    {
     "name": "stdout",
     "output_type": "stream",
     "text": [
      "<Sequential name=sequential_7, built=True>\n",
      "\u001b[1m1/1\u001b[0m \u001b[32m━━━━━━━━━━━━━━━━━━━━\u001b[0m\u001b[37m\u001b[0m \u001b[1m0s\u001b[0m 369ms/step\n",
      "Not Happy\n",
      "[[1.]]\n",
      "Capturing image 1/30...\n",
      "0.5\n",
      "Image 1 saved as: /home/pi/Desktop/captured_images/Images/image_1.jpg\n",
      "/home/pi/Desktop/captured_images/Images/image_1.jpg\n",
      "<class 'numpy.ndarray'>\n",
      "[[165 146 297 297]]\n"
     ]
    },
    {
     "name": "stderr",
     "output_type": "stream",
     "text": [
      "WARNING:absl:Compiled the loaded model, but the compiled metrics have yet to be built. `model.compile_metrics` will be empty until you train or evaluate the model.\n"
     ]
    },
    {
     "name": "stdout",
     "output_type": "stream",
     "text": [
      "<Sequential name=sequential_7, built=True>\n",
      "\u001b[1m1/1\u001b[0m \u001b[32m━━━━━━━━━━━━━━━━━━━━\u001b[0m\u001b[37m\u001b[0m \u001b[1m0s\u001b[0m 374ms/step\n",
      "Not Happy\n",
      "[[1.]]\n",
      "Capturing image 1/30...\n",
      "0.5\n",
      "Image 1 saved as: /home/pi/Desktop/captured_images/Images/image_1.jpg\n",
      "/home/pi/Desktop/captured_images/Images/image_1.jpg\n",
      "<class 'numpy.ndarray'>\n",
      "[[169 149 296 296]]\n"
     ]
    },
    {
     "name": "stderr",
     "output_type": "stream",
     "text": [
      "WARNING:absl:Compiled the loaded model, but the compiled metrics have yet to be built. `model.compile_metrics` will be empty until you train or evaluate the model.\n"
     ]
    },
    {
     "name": "stdout",
     "output_type": "stream",
     "text": [
      "<Sequential name=sequential_7, built=True>\n",
      "\u001b[1m1/1\u001b[0m \u001b[32m━━━━━━━━━━━━━━━━━━━━\u001b[0m\u001b[37m\u001b[0m \u001b[1m0s\u001b[0m 315ms/step\n",
      "Not Happy\n",
      "[[1.]]\n",
      "Capturing image 1/30...\n",
      "0.5\n",
      "Image 1 saved as: /home/pi/Desktop/captured_images/Images/image_1.jpg\n",
      "/home/pi/Desktop/captured_images/Images/image_1.jpg\n",
      "<class 'numpy.ndarray'>\n",
      "[[167 150 297 297]]\n"
     ]
    },
    {
     "name": "stderr",
     "output_type": "stream",
     "text": [
      "WARNING:absl:Compiled the loaded model, but the compiled metrics have yet to be built. `model.compile_metrics` will be empty until you train or evaluate the model.\n"
     ]
    },
    {
     "name": "stdout",
     "output_type": "stream",
     "text": [
      "<Sequential name=sequential_7, built=True>\n",
      "\u001b[1m1/1\u001b[0m \u001b[32m━━━━━━━━━━━━━━━━━━━━\u001b[0m\u001b[37m\u001b[0m \u001b[1m0s\u001b[0m 362ms/step\n",
      "Not Happy\n",
      "[[1.]]\n",
      "Capturing image 1/30...\n",
      "0.5\n",
      "Image 1 saved as: /home/pi/Desktop/captured_images/Images/image_1.jpg\n",
      "/home/pi/Desktop/captured_images/Images/image_1.jpg\n",
      "<class 'numpy.ndarray'>\n",
      "[[141 160 292 292]]\n"
     ]
    },
    {
     "name": "stderr",
     "output_type": "stream",
     "text": [
      "WARNING:absl:Compiled the loaded model, but the compiled metrics have yet to be built. `model.compile_metrics` will be empty until you train or evaluate the model.\n"
     ]
    },
    {
     "name": "stdout",
     "output_type": "stream",
     "text": [
      "<Sequential name=sequential_7, built=True>\n",
      "\u001b[1m1/1\u001b[0m \u001b[32m━━━━━━━━━━━━━━━━━━━━\u001b[0m\u001b[37m\u001b[0m \u001b[1m0s\u001b[0m 321ms/step\n",
      "Not Happy\n",
      "[[1.]]\n",
      "Capturing image 1/30...\n",
      "0.5\n",
      "Image 1 saved as: /home/pi/Desktop/captured_images/Images/image_1.jpg\n",
      "/home/pi/Desktop/captured_images/Images/image_1.jpg\n",
      "<class 'numpy.ndarray'>\n",
      "[[153 170 288 288]]\n"
     ]
    },
    {
     "name": "stderr",
     "output_type": "stream",
     "text": [
      "WARNING:absl:Compiled the loaded model, but the compiled metrics have yet to be built. `model.compile_metrics` will be empty until you train or evaluate the model.\n"
     ]
    },
    {
     "name": "stdout",
     "output_type": "stream",
     "text": [
      "<Sequential name=sequential_7, built=True>\n",
      "\u001b[1m1/1\u001b[0m \u001b[32m━━━━━━━━━━━━━━━━━━━━\u001b[0m\u001b[37m\u001b[0m \u001b[1m0s\u001b[0m 324ms/step\n",
      "Not Happy\n",
      "[[1.]]\n",
      "Capturing image 1/30...\n",
      "0.5\n",
      "Image 1 saved as: /home/pi/Desktop/captured_images/Images/image_1.jpg\n",
      "/home/pi/Desktop/captured_images/Images/image_1.jpg\n",
      "<class 'numpy.ndarray'>\n",
      "[[159 167 289 289]]\n"
     ]
    },
    {
     "name": "stderr",
     "output_type": "stream",
     "text": [
      "WARNING:absl:Compiled the loaded model, but the compiled metrics have yet to be built. `model.compile_metrics` will be empty until you train or evaluate the model.\n"
     ]
    },
    {
     "name": "stdout",
     "output_type": "stream",
     "text": [
      "<Sequential name=sequential_7, built=True>\n",
      "\u001b[1m1/1\u001b[0m \u001b[32m━━━━━━━━━━━━━━━━━━━━\u001b[0m\u001b[37m\u001b[0m \u001b[1m0s\u001b[0m 312ms/step\n",
      "Not Happy\n",
      "[[1.]]\n",
      "Capturing image 1/30...\n",
      "0.5\n",
      "Image 1 saved as: /home/pi/Desktop/captured_images/Images/image_1.jpg\n",
      "/home/pi/Desktop/captured_images/Images/image_1.jpg\n",
      "<class 'numpy.ndarray'>\n",
      "[[166 170 284 284]]\n"
     ]
    },
    {
     "name": "stderr",
     "output_type": "stream",
     "text": [
      "WARNING:absl:Compiled the loaded model, but the compiled metrics have yet to be built. `model.compile_metrics` will be empty until you train or evaluate the model.\n"
     ]
    },
    {
     "name": "stdout",
     "output_type": "stream",
     "text": [
      "<Sequential name=sequential_7, built=True>\n",
      "\u001b[1m1/1\u001b[0m \u001b[32m━━━━━━━━━━━━━━━━━━━━\u001b[0m\u001b[37m\u001b[0m \u001b[1m0s\u001b[0m 345ms/step\n",
      "Happy\n",
      "[[0.]]\n"
     ]
    },
    {
     "data": {
      "image/png": "[encoded data removed]",
      "text/plain": [
       "<Figure size 640x480 with 1 Axes>"
      ]
     },
     "metadata": {},
     "output_type": "display_data"
    }
   ],
   "source": [
    "import cv2\n",
    "import os\n",
    "import time\n",
    "import shutil\n",
    "\n",
    "def capture_and_display(camera_index=0, num_images=10, save_dir='captured_images', capture_duration_per_image=0.5, resolution=(4032, 3024), target_resolution=(2316, 3088)):\n",
    "    # Create the directory if it doesn't exist\n",
    "    save_dir ='/home/pi/Desktop/captured_images/Images'\n",
    "    shutil.rmtree(save_dir)\n",
    "    os.mkdir(save_dir)\n",
    "    if not os.path.exists(save_dir):\n",
    "        os.makedirs(save_dir)\n",
    "    \n",
    "    # Open the camera\n",
    "    camera = cv2.VideoCapture(camera_index)\n",
    "    \n",
    "    # Set the resolution\n",
    "    camera.set(cv2.CAP_PROP_FRAME_WIDTH, resolution[0])\n",
    "    camera.set(cv2.CAP_PROP_FRAME_HEIGHT, resolution[1])\n",
    "    \n",
    "    # Check if camera opened successfully\n",
    "    if not camera.isOpened():\n",
    "        print(\"Error: Could not open camera.\")\n",
    "        return\n",
    "    \n",
    "    # Capture and display images\n",
    "    i = 0\n",
    "    while True:\n",
    "        print(f\"Capturing image {i+1}/{num_images}...\")\n",
    "        \n",
    "        # Start capturing for capture_duration_per_image seconds\n",
    "        start_time = time.time()\n",
    "        frames = []\n",
    "        print(capture_duration_per_image)\n",
    "        while time.time() - start_time < capture_duration_per_image:\n",
    "            # Capture frame-by-frame\n",
    "            ret, frame = camera.read()\n",
    "            \n",
    "            # Check if frame is captured successfully\n",
    "            if not ret:\n",
    "                print(\"Error: Failed to capture image.\")\n",
    "                break\n",
    "            \n",
    "            # Resize the frame to the target resolution\n",
    "            resized_frame = cv2.resize(frame, target_resolution)\n",
    "            \n",
    "            # Display the resized image\n",
    "            cv2.imshow('Resized Image', resized_frame)\n",
    "            \n",
    "            # Add the frame to the list\n",
    "            frames.append(resized_frame)\n",
    "            \n",
    "            # Wait for a key press\n",
    "            key = cv2.waitKey(1) & 0xFF\n",
    "            # Press 'q' to exit\n",
    "            if key == ord('q'):\n",
    "                break\n",
    "        \n",
    "        # Save the captured image (use the last frame captured)\n",
    "        if frames:\n",
    "            image_path = os.path.join(save_dir, f\"image_{i+1}.jpg\")\n",
    "            cv2.imwrite(image_path, frames[-1])\n",
    "            print(f\"Image {i+1} saved as: {image_path}\")\n",
    "        print(image_path)\n",
    "        Happy = determine_face(image_path)\n",
    "        os.remove(image_path)\n",
    "        if Happy == \"Happy\":\n",
    "           camera.release()\n",
    "           cv2.destroyAllWindows()\n",
    "           break\n",
    "        # Capture \n",
    "        \n",
    "        \n",
    "        # Reset frames for the next capture\n",
    "        frames = []\n",
    "        \n",
    "    # Release the camera and close the window\n",
    "    camera.release()\n",
    "    cv2.destroyAllWindows()\n",
    "\n",
    "# Main function\n",
    "if __name__ == \"__main__\":\n",
    "    # Set the camera index (0 for the first camera)\n",
    "    camera_index = 0\n",
    "    \n",
    "    # Set the number of images to capture\n",
    "    num_images = 30\n",
    "    \n",
    "    # Set the directory to save the images\n",
    "    save_dir = 'captured_images'\n",
    "    \n",
    "    # Set the duration to capture each image (in seconds)\n",
    "    capture_duration_per_image = 0.5\n",
    "    \n",
    "    # Set the resolution of the captured images\n",
    "    resolution = ( 640,480)\n",
    "    \n",
    "    # Set the target resolution\n",
    "    target_resolution = ( 640,480)\n",
    "    \n",
    "    # Call the function to capture, display, and save images\n",
    "    capture_and_display(camera_index, num_images, save_dir, capture_duration_per_image, resolution, target_resolution)\n",
    "\n"
   ]
  },
  {
   "cell_type": "code",
   "execution_count": null,
   "id": "a644d34b-2bb0-4301-b9df-3dd7834f3ab2",
   "metadata": {},
   "outputs": [],
   "source": []
  },
  {
   "cell_type": "code",
   "execution_count": null,
   "id": "45456b07-3670-413c-a840-2f54e65ca7d0",
   "metadata": {},
   "outputs": [],
   "source": []
  },
  {
   "cell_type": "code",
   "execution_count": null,
   "id": "f9d867ef-e637-4750-b80d-357851de5785",
   "metadata": {},
   "outputs": [],
   "source": []
  },
  {
   "cell_type": "code",
   "execution_count": null,
   "id": "7b5aef29-f2b6-4fab-a2aa-e393a21fa19d",
   "metadata": {},
   "outputs": [],
   "source": []
  },
  {
   "cell_type": "code",
   "execution_count": null,
   "id": "2d654a82-0a25-46ed-9d7c-622cd20d5359",
   "metadata": {},
   "outputs": [],
   "source": []
  },
  {
   "cell_type": "code",
   "execution_count": null,
   "id": "e5dc168d-8d13-41a9-8d33-5bd54b55b92c",
   "metadata": {},
   "outputs": [],
   "source": []
  },
  {
   "cell_type": "code",
   "execution_count": null,
   "id": "b3a4ca75-e34a-404a-9962-c49da01cb366",
   "metadata": {},
   "outputs": [],
   "source": []
  },
  {
   "cell_type": "code",
   "execution_count": null,
   "id": "d7c1c25d-3d33-40d7-a307-f15608ba1746",
   "metadata": {},
   "outputs": [],
   "source": []
  },
  {
   "cell_type": "code",
   "execution_count": null,
   "id": "62b9fba6-570c-428c-9586-2a6500bf2302",
   "metadata": {},
   "outputs": [],
   "source": []
  },
  {
   "cell_type": "code",
   "execution_count": null,
   "id": "3b06df6f-d3e3-444c-a08d-9c78e70ca00a",
   "metadata": {},
   "outputs": [],
   "source": []
  },
  {
   "cell_type": "code",
   "execution_count": null,
   "id": "c9884890-408b-49f5-8e1f-ef242b41fbf9",
   "metadata": {},
   "outputs": [],
   "source": []
  },
  {
   "cell_type": "code",
   "execution_count": null,
   "id": "56e22cab-84cf-4043-9e44-161abe34c248",
   "metadata": {},
   "outputs": [],
   "source": []
  },
  {
   "cell_type": "code",
   "execution_count": null,
   "id": "dc5de970-ab0b-4495-9549-1717137fffb3",
   "metadata": {},
   "outputs": [],
   "source": []
  },
  {
   "cell_type": "code",
   "execution_count": null,
   "id": "8c33b0a0-68ea-47cc-a653-e39417eb4ea7",
   "metadata": {},
   "outputs": [],
   "source": []
  },
  {
   "cell_type": "code",
   "execution_count": null,
   "id": "42f89177-6b9f-4033-9bfb-5c96db6d46af",
   "metadata": {},
   "outputs": [],
   "source": []
  },
  {
   "cell_type": "code",
   "execution_count": null,
   "id": "39c48fb7-f731-4619-9e02-a71e2779dd79",
   "metadata": {},
   "outputs": [],
   "source": []
  }
 ],
 "metadata": {
  "kernelspec": {
   "display_name": "Python 3 (ipykernel)",
   "language": "python",
   "name": "python3"
  },
  "language_info": {
   "codemirror_mode": {
    "name": "ipython",
    "version": 3
   },
   "file_extension": ".py",
   "mimetype": "text/x-python",
   "name": "python",
   "nbconvert_exporter": "python",
   "pygments_lexer": "ipython3",
   "version": "3.11.2"
  }
 },
 "nbformat": 4,
 "nbformat_minor": 5
}
