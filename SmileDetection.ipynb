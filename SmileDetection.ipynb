{
  "nbformat": 4,
  "nbformat_minor": 0,
  "metadata": {
    "colab": {
      "provenance": []
    },
    "kernelspec": {
      "name": "python3",
      "display_name": "Python 3"
    },
    "language_info": {
      "name": "python"
    }
  },
  "cells": [
    {
      "cell_type": "markdown",
      "source": [
        "###Imports and Installation"
      ],
      "metadata": {
        "id": "2RswFtImw4qS"
      }
    },
    {
      "cell_type": "code",
      "source": [
        " #installing tensorflow-model-optimization\n",
        " pip install -q tensorflow-model-optimization"
      ],
      "metadata": {
        "id": "mrXonXO4SOoM"
      },
      "execution_count": null,
      "outputs": []
    },
    {
      "cell_type": "code",
      "source": [
        "#importing libraries\n",
        "import tempfile\n",
        "import os\n",
        "import zipfile\n",
        "\n",
        "import tensorflow as tf\n",
        "import numpy as np\n",
        "\n",
        "\n",
        "from tensorflow.keras.optimizers import RMSprop\n",
        "from tensorflow.keras.preprocessing.image import ImageDataGenerator\n",
        "from tensorflow_model_optimization.python.core.keras.compat import keras\n",
        "\n",
        "%load_ext tensorboard"
      ],
      "metadata": {
        "id": "UWXX5DVWU5qU"
      },
      "execution_count": null,
      "outputs": []
    },
    {
      "cell_type": "markdown",
      "source": [
        "####Data Pre-Processing"
      ],
      "metadata": {
        "id": "3mkVHeSnwzS2"
      }
    },
    {
      "cell_type": "code",
      "source": [
        "#preparing dataset\n",
        "!unzip dataset.zip\n"
      ],
      "metadata": {
        "id": "KvCoR0i9a4To"
      },
      "execution_count": null,
      "outputs": []
    },
    {
      "cell_type": "code",
      "source": [
        "\n",
        "base_dir = '/content/dataset'\n",
        "train_dir = os.path.join(base_dir, 'train')\n",
        "validation_dir = os.path.join(base_dir, 'test')\n",
        "test_dir = os.path.join(base_dir, 'test')"
      ],
      "metadata": {
        "id": "2TJAyYM5cM7J"
      },
      "execution_count": null,
      "outputs": []
    },
    {
      "cell_type": "code",
      "source": [
        "INPUT_SHAPE = (48, 48)\n",
        "MODEL_INPUT_SHAPE = INPUT_SHAPE + (3,)\n",
        "\n",
        "#HYPERPARAMETERS\n",
        "LEARNING_RATE = 1e-4\n",
        "BATCH_SIZE = 32\n",
        "EPOCHS = 120"
      ],
      "metadata": {
        "id": "RjEtQ886a7rM"
      },
      "execution_count": null,
      "outputs": []
    },
    {
      "cell_type": "code",
      "source": [
        "\n",
        "train_datagen = ImageDataGenerator(\n",
        "      rescale=1./255,\n",
        "      rotation_range=40,\n",
        "      width_shift_range=0.2,\n",
        "      height_shift_range=0.2,\n",
        "      shear_range=0.2,\n",
        "      zoom_range=0.2,\n",
        "      horizontal_flip=True,\n",
        "      fill_mode='nearest')\n",
        "\n",
        "test_datagen = ImageDataGenerator(rescale=1./255)"
      ],
      "metadata": {
        "id": "-80m3HgfbFFu"
      },
      "execution_count": null,
      "outputs": []
    },
    {
      "cell_type": "code",
      "source": [
        "# Flow training images in batches of 20 using train_datagen generator\n",
        "train_generator = train_datagen.flow_from_directory(\n",
        "        train_dir,  # This is the source directory for training images\n",
        "        target_size=INPUT_SHAPE,  # All images will be resized to 150x150\n",
        "        batch_size=BATCH_SIZE,\n",
        "        shuffle=True,\n",
        "        # Since we use binary_crossentropy loss, we need binary labels\n",
        "        class_mode='binary')\n",
        "\n",
        "# Flow validation images in batches of 20 using test_datagen generator\n",
        "validation_generator = test_datagen.flow_from_directory(\n",
        "        validation_dir,\n",
        "        target_size=INPUT_SHAPE,\n",
        "        batch_size=BATCH_SIZE,\n",
        "        class_mode='binary')\n",
        "\n",
        "test_generator = test_datagen.flow_from_directory(\n",
        "    test_dir,\n",
        "    target_size = INPUT_SHAPE,\n",
        "    batch_size = BATCH_SIZE,\n",
        "    class_mode = 'binary')"
      ],
      "metadata": {
        "colab": {
          "base_uri": "https://localhost:8080/"
        },
        "id": "Ysa89BBtbM8t",
        "outputId": "acb1b87f-bf11-492c-8ec9-217e6d3695ae"
      },
      "execution_count": null,
      "outputs": [
        {
          "output_type": "stream",
          "name": "stdout",
          "text": [
            "Found 24381 images belonging to 2 classes.\n",
            "Found 4662 images belonging to 2 classes.\n",
            "Found 4662 images belonging to 2 classes.\n"
          ]
        }
      ]
    },
    {
      "cell_type": "markdown",
      "source": [
        "###Model"
      ],
      "metadata": {
        "id": "rVnSH1U7xCyO"
      }
    },
    {
      "cell_type": "code",
      "source": [
        "# Define the model architecture\n",
        "model = keras.Sequential([\n",
        "    keras.layers.InputLayer(input_shape=MODEL_INPUT_SHAPE),\n",
        "    keras.layers.Conv2D(32, (3, 3), activation='relu'),\n",
        "    keras.layers.MaxPooling2D(2, 2),\n",
        "    keras.layers.Conv2D(64, (3, 3), activation='relu'),\n",
        "    keras.layers.MaxPooling2D(2, 2),\n",
        "    keras.layers.Conv2D(128, (3, 3), activation='relu'),\n",
        "    keras.layers.MaxPooling2D(2, 2),\n",
        "    keras.layers.Conv2D(128, (3, 3), activation='relu'),\n",
        "    keras.layers.MaxPooling2D(2, 2),\n",
        "    keras.layers.Flatten(),\n",
        "    keras.layers.Dense(512, activation='relu'),\n",
        "    keras.layers.Dense(1, activation='sigmoid')\n",
        "])"
      ],
      "metadata": {
        "id": "nRb0Ckk2cnfn"
      },
      "execution_count": null,
      "outputs": []
    },
    {
      "cell_type": "code",
      "source": [
        "#modle compile\n",
        "model.compile(\n",
        "    loss = 'binary_crossentropy',\n",
        "    optimizer = 'adam',\n",
        "    metrics = ['accuracy']\n",
        ")"
      ],
      "metadata": {
        "id": "FR1erX4Kdg5h"
      },
      "execution_count": null,
      "outputs": []
    },
    {
      "cell_type": "code",
      "source": [
        "#summary\n",
        "model.summary()"
      ],
      "metadata": {
        "colab": {
          "base_uri": "https://localhost:8080/"
        },
        "id": "i4ojPSSgedQj",
        "outputId": "e0a89dd0-898d-4a0f-8ed1-067cc99f5d63"
      },
      "execution_count": null,
      "outputs": [
        {
          "output_type": "stream",
          "name": "stdout",
          "text": [
            "Model: \"sequential\"\n",
            "_________________________________________________________________\n",
            " Layer (type)                Output Shape              Param #   \n",
            "=================================================================\n",
            " conv2d (Conv2D)             (None, 46, 46, 32)        896       \n",
            "                                                                 \n",
            " max_pooling2d (MaxPooling2  (None, 23, 23, 32)        0         \n",
            " D)                                                              \n",
            "                                                                 \n",
            " conv2d_1 (Conv2D)           (None, 21, 21, 64)        18496     \n",
            "                                                                 \n",
            " max_pooling2d_1 (MaxPoolin  (None, 10, 10, 64)        0         \n",
            " g2D)                                                            \n",
            "                                                                 \n",
            " conv2d_2 (Conv2D)           (None, 8, 8, 128)         73856     \n",
            "                                                                 \n",
            " max_pooling2d_2 (MaxPoolin  (None, 4, 4, 128)         0         \n",
            " g2D)                                                            \n",
            "                                                                 \n",
            " conv2d_3 (Conv2D)           (None, 2, 2, 128)         147584    \n",
            "                                                                 \n",
            " max_pooling2d_3 (MaxPoolin  (None, 1, 1, 128)         0         \n",
            " g2D)                                                            \n",
            "                                                                 \n",
            " flatten (Flatten)           (None, 128)               0         \n",
            "                                                                 \n",
            " dense (Dense)               (None, 512)               66048     \n",
            "                                                                 \n",
            " dense_1 (Dense)             (None, 1)                 513       \n",
            "                                                                 \n",
            "=================================================================\n",
            "Total params: 307393 (1.17 MB)\n",
            "Trainable params: 307393 (1.17 MB)\n",
            "Non-trainable params: 0 (0.00 Byte)\n",
            "_________________________________________________________________\n"
          ]
        }
      ]
    },
    {
      "cell_type": "code",
      "source": [
        "#plotting model and saving it architecture picture\n",
        "dot_img_file = '/tmp/model_1.png'\n",
        "tf.keras.utils.plot_model(model, to_file=dot_img_file, show_shapes=True)"
      ],
      "metadata": {
        "colab": {
          "base_uri": "https://localhost:8080/",
          "height": 1000
        },
        "id": "XB2XoP6byh16",
        "outputId": "8e9cf018-d398-4498-d662-c9b74c29c7b4"
      },
      "execution_count": null,
      "outputs": [
        {
          "output_type": "execute_result",
          "data": {
            "image/png": "[encoded data removed]",
            "text/plain": [
              "<IPython.core.display.Image object>"
            ]
          },
          "metadata": {},
          "execution_count": 31
        }
      ]
    },
    {
      "cell_type": "code",
      "source": [
        "from keras.callbacks import EarlyStopping, ModelCheckpoint\n",
        "\n",
        "# Path where the checkpoint model will be saved\n",
        "model_checkpoint_path = 'model_checkpoint.h5'\n",
        "\n",
        "# EarlyStopping callback\n",
        "early_stopping = EarlyStopping(monitor = 'val_loss', min_delta = 0.01, patience = 5, verbose = 1, mode = 'auto')\n",
        "\n",
        "# ModelCheckpoint callback\n",
        "model_checkpoint = ModelCheckpoint(filepath = model_checkpoint_path, monitor = 'val_loss', verbose = 1, save_best_only = True, mode = 'auto')\n"
      ],
      "metadata": {
        "id": "sl71lxTGs9Gl"
      },
      "execution_count": null,
      "outputs": []
    },
    {
      "cell_type": "code",
      "source": [
        "#Fitting data into model -> training model\n",
        "history = model.fit(\n",
        "      train_generator,\n",
        "      steps_per_epoch = train_generator.n//BATCH_SIZE,  # steps = 24381 images / batch_size\n",
        "      epochs = EPOCHS,\n",
        "      validation_data = validation_generator,\n",
        "      validation_steps = validation_generator.n//BATCH_SIZE,\n",
        "      verbose = 1,\n",
        "      callbacks = [early_stopping, model_checkpoint])"
      ],
      "metadata": {
        "colab": {
          "base_uri": "https://localhost:8080/"
        },
        "id": "i46gr2-befMp",
        "outputId": "9a3b4f3b-0262-44b0-c77b-f016915d3670"
      },
      "execution_count": null,
      "outputs": [
        {
          "output_type": "stream",
          "name": "stdout",
          "text": [
            "Epoch 1/120\n",
            "761/761 [==============================] - ETA: 0s - loss: 0.6936 - accuracy: 0.5005\n",
            "Epoch 1: val_loss improved from inf to 0.69465, saving model to model_checkpoint.h5\n",
            "761/761 [==============================] - 139s 182ms/step - loss: 0.6936 - accuracy: 0.5005 - val_loss: 0.6947 - val_accuracy: 0.4185\n",
            "Epoch 2/120\n",
            "761/761 [==============================] - ETA: 0s - loss: 0.6910 - accuracy: 0.5291\n",
            "Epoch 2: val_loss improved from 0.69465 to 0.65499, saving model to model_checkpoint.h5\n",
            "761/761 [==============================] - 133s 175ms/step - loss: 0.6910 - accuracy: 0.5291 - val_loss: 0.6550 - val_accuracy: 0.6106\n",
            "Epoch 3/120\n",
            "761/761 [==============================] - ETA: 0s - loss: 0.6765 - accuracy: 0.5666\n",
            "Epoch 3: val_loss improved from 0.65499 to 0.55774, saving model to model_checkpoint.h5\n",
            "761/761 [==============================] - 148s 194ms/step - loss: 0.6765 - accuracy: 0.5666 - val_loss: 0.5577 - val_accuracy: 0.7364\n",
            "Epoch 4/120\n",
            "761/761 [==============================] - ETA: 0s - loss: 0.6255 - accuracy: 0.6425\n",
            "Epoch 4: val_loss improved from 0.55774 to 0.47198, saving model to model_checkpoint.h5\n",
            "761/761 [==============================] - 131s 172ms/step - loss: 0.6255 - accuracy: 0.6425 - val_loss: 0.4720 - val_accuracy: 0.7834\n",
            "Epoch 5/120\n",
            "761/761 [==============================] - ETA: 0s - loss: 0.5825 - accuracy: 0.6835\n",
            "Epoch 5: val_loss improved from 0.47198 to 0.46794, saving model to model_checkpoint.h5\n",
            "761/761 [==============================] - 147s 193ms/step - loss: 0.5825 - accuracy: 0.6835 - val_loss: 0.4679 - val_accuracy: 0.7821\n",
            "Epoch 6/120\n",
            "761/761 [==============================] - ETA: 0s - loss: 0.5559 - accuracy: 0.7103\n",
            "Epoch 6: val_loss did not improve from 0.46794\n",
            "761/761 [==============================] - 147s 194ms/step - loss: 0.5559 - accuracy: 0.7103 - val_loss: 0.4773 - val_accuracy: 0.7871\n",
            "Epoch 7/120\n",
            "761/761 [==============================] - ETA: 0s - loss: 0.5368 - accuracy: 0.7235\n",
            "Epoch 7: val_loss improved from 0.46794 to 0.43311, saving model to model_checkpoint.h5\n",
            "761/761 [==============================] - 151s 199ms/step - loss: 0.5368 - accuracy: 0.7235 - val_loss: 0.4331 - val_accuracy: 0.8125\n",
            "Epoch 8/120\n",
            "761/761 [==============================] - ETA: 0s - loss: 0.5184 - accuracy: 0.7390\n",
            "Epoch 8: val_loss did not improve from 0.43311\n",
            "761/761 [==============================] - 152s 200ms/step - loss: 0.5184 - accuracy: 0.7390 - val_loss: 0.4332 - val_accuracy: 0.8032\n",
            "Epoch 9/120\n",
            "761/761 [==============================] - ETA: 0s - loss: 0.5090 - accuracy: 0.7466\n",
            "Epoch 9: val_loss improved from 0.43311 to 0.42997, saving model to model_checkpoint.h5\n",
            "761/761 [==============================] - 134s 177ms/step - loss: 0.5090 - accuracy: 0.7466 - val_loss: 0.4300 - val_accuracy: 0.8103\n",
            "Epoch 10/120\n",
            "761/761 [==============================] - ETA: 0s - loss: 0.4982 - accuracy: 0.7543\n",
            "Epoch 10: val_loss improved from 0.42997 to 0.39877, saving model to model_checkpoint.h5\n",
            "761/761 [==============================] - 132s 173ms/step - loss: 0.4982 - accuracy: 0.7543 - val_loss: 0.3988 - val_accuracy: 0.8313\n",
            "Epoch 11/120\n",
            "761/761 [==============================] - ETA: 0s - loss: 0.4858 - accuracy: 0.7629\n",
            "Epoch 11: val_loss did not improve from 0.39877\n",
            "761/761 [==============================] - 135s 178ms/step - loss: 0.4858 - accuracy: 0.7629 - val_loss: 0.4073 - val_accuracy: 0.8265\n",
            "Epoch 12/120\n",
            "761/761 [==============================] - ETA: 0s - loss: 0.4771 - accuracy: 0.7689\n",
            "Epoch 12: val_loss improved from 0.39877 to 0.39263, saving model to model_checkpoint.h5\n",
            "761/761 [==============================] - 139s 183ms/step - loss: 0.4771 - accuracy: 0.7689 - val_loss: 0.3926 - val_accuracy: 0.8369\n",
            "Epoch 13/120\n",
            "761/761 [==============================] - ETA: 0s - loss: 0.4672 - accuracy: 0.7725\n",
            "Epoch 13: val_loss improved from 0.39263 to 0.38716, saving model to model_checkpoint.h5\n",
            "761/761 [==============================] - 123s 162ms/step - loss: 0.4672 - accuracy: 0.7725 - val_loss: 0.3872 - val_accuracy: 0.8371\n",
            "Epoch 14/120\n",
            "761/761 [==============================] - ETA: 0s - loss: 0.4621 - accuracy: 0.7769\n",
            "Epoch 14: val_loss improved from 0.38716 to 0.37697, saving model to model_checkpoint.h5\n",
            "761/761 [==============================] - 137s 181ms/step - loss: 0.4621 - accuracy: 0.7769 - val_loss: 0.3770 - val_accuracy: 0.8390\n",
            "Epoch 15/120\n",
            "761/761 [==============================] - ETA: 0s - loss: 0.4587 - accuracy: 0.7792\n",
            "Epoch 15: val_loss did not improve from 0.37697\n",
            "761/761 [==============================] - 130s 171ms/step - loss: 0.4587 - accuracy: 0.7792 - val_loss: 0.3872 - val_accuracy: 0.8325\n",
            "Epoch 16/120\n",
            "761/761 [==============================] - ETA: 0s - loss: 0.4478 - accuracy: 0.7874\n",
            "Epoch 16: val_loss did not improve from 0.37697\n",
            "761/761 [==============================] - 121s 159ms/step - loss: 0.4478 - accuracy: 0.7874 - val_loss: 0.4183 - val_accuracy: 0.8119\n",
            "Epoch 17/120\n",
            "761/761 [==============================] - ETA: 0s - loss: 0.4470 - accuracy: 0.7889\n",
            "Epoch 17: val_loss improved from 0.37697 to 0.36340, saving model to model_checkpoint.h5\n",
            "761/761 [==============================] - 129s 169ms/step - loss: 0.4470 - accuracy: 0.7889 - val_loss: 0.3634 - val_accuracy: 0.8457\n",
            "Epoch 18/120\n",
            "761/761 [==============================] - ETA: 0s - loss: 0.4346 - accuracy: 0.7945\n",
            "Epoch 18: val_loss did not improve from 0.36340\n",
            "761/761 [==============================] - 128s 168ms/step - loss: 0.4346 - accuracy: 0.7945 - val_loss: 0.3805 - val_accuracy: 0.8427\n",
            "Epoch 19/120\n",
            "761/761 [==============================] - ETA: 0s - loss: 0.4367 - accuracy: 0.7953\n",
            "Epoch 19: val_loss improved from 0.36340 to 0.36102, saving model to model_checkpoint.h5\n",
            "761/761 [==============================] - 123s 161ms/step - loss: 0.4367 - accuracy: 0.7953 - val_loss: 0.3610 - val_accuracy: 0.8468\n",
            "Epoch 20/120\n",
            "761/761 [==============================] - ETA: 0s - loss: 0.4312 - accuracy: 0.7944\n",
            "Epoch 20: val_loss did not improve from 0.36102\n",
            "761/761 [==============================] - 128s 168ms/step - loss: 0.4312 - accuracy: 0.7944 - val_loss: 0.3677 - val_accuracy: 0.8504\n",
            "Epoch 21/120\n",
            "761/761 [==============================] - ETA: 0s - loss: 0.4333 - accuracy: 0.7965\n",
            "Epoch 21: val_loss did not improve from 0.36102\n",
            "761/761 [==============================] - 123s 161ms/step - loss: 0.4333 - accuracy: 0.7965 - val_loss: 0.3975 - val_accuracy: 0.8211\n",
            "Epoch 22/120\n",
            "761/761 [==============================] - ETA: 0s - loss: 0.4238 - accuracy: 0.8039\n",
            "Epoch 22: val_loss improved from 0.36102 to 0.35834, saving model to model_checkpoint.h5\n",
            "761/761 [==============================] - 129s 169ms/step - loss: 0.4238 - accuracy: 0.8039 - val_loss: 0.3583 - val_accuracy: 0.8517\n",
            "Epoch 22: early stopping\n"
          ]
        }
      ]
    },
    {
      "cell_type": "code",
      "source": [
        "#Test accuracy\n",
        "_, baseline_model_accuracy = model.evaluate(\n",
        "    test_generator, verbose=1)\n",
        "\n",
        "print('Baseline test accuracy:', baseline_model_accuracy)\n"
      ],
      "metadata": {
        "colab": {
          "base_uri": "https://localhost:8080/"
        },
        "id": "SFj0BnWSU_sH",
        "outputId": "1b617ff6-94a6-4a1b-d67d-c8fccd579972"
      },
      "execution_count": null,
      "outputs": [
        {
          "output_type": "stream",
          "name": "stdout",
          "text": [
            "146/146 [==============================] - 6s 38ms/step - loss: 0.3579 - accuracy: 0.8522\n",
            "Baseline test accuracy: 0.8522093296051025\n"
          ]
        }
      ]
    },
    {
      "cell_type": "code",
      "source": [
        "#save model\n",
        "_, keras_file = tempfile.mkstemp('.h5')\n",
        "keras.models.save_model(model, keras_file, include_optimizer=False)\n",
        "print('Saved baseline model to:', keras_file)"
      ],
      "metadata": {
        "colab": {
          "base_uri": "https://localhost:8080/"
        },
        "id": "JvDX67qR4TJh",
        "outputId": "84ef8057-e2d7-436f-ad2d-d4917dd5ed6f"
      },
      "execution_count": null,
      "outputs": [
        {
          "output_type": "stream",
          "name": "stdout",
          "text": [
            "Saved baseline model to: /tmp/tmp5r4dexzu.h5\n"
          ]
        },
        {
          "output_type": "stream",
          "name": "stderr",
          "text": [
            "<ipython-input-19-035c13f7cf76>:3: UserWarning: You are saving your model as an HDF5 file via `model.save()`. This file format is considered legacy. We recommend using instead the native Keras format, e.g. `model.save('my_model.keras')`.\n",
            "  keras.models.save_model(model, keras_file, include_optimizer=False)\n"
          ]
        }
      ]
    },
    {
      "cell_type": "code",
      "source": [
        "import numpy as np\n",
        "import matplotlib.pyplot as plt\n",
        "import seaborn as sns\n",
        "from sklearn.metrics import confusion_matrix, classification_report\n",
        "import tensorflow as tf\n",
        "\n",
        "# Function to generate predictions and true labels\n",
        "def generate_predictions(model, validation_generator, threshold=0.5):\n",
        "    validation_generator.reset()\n",
        "    predictions = model.predict(validation_generator)\n",
        "    binarized_predictions = (predictions > threshold).astype(int)\n",
        "    true_labels = validation_generator.classes\n",
        "    return binarized_predictions.flatten(), true_labels\n",
        "\n",
        "# Function to plot the confusion matrix\n",
        "def plot_confusion_matrix(conf_matrix, classes, title='Confusion Matrix', cmap=plt.cm.PuRd):\n",
        "    plt.imshow(conf_matrix, interpolation='nearest', cmap=cmap)\n",
        "    plt.title(title)\n",
        "    plt.colorbar()\n",
        "    tick_marks = np.arange(len(classes))\n",
        "    plt.xticks(tick_marks, classes, rotation=45)\n",
        "    plt.yticks(tick_marks, classes)\n",
        "\n",
        "    fmt = 'd'\n",
        "    thresh = conf_matrix.max() / 2.\n",
        "    for i in range(conf_matrix.shape[0]):\n",
        "        for j in range(conf_matrix.shape[1]):\n",
        "            plt.text(j, i, format(conf_matrix[i, j], fmt),\n",
        "                     ha=\"center\", va=\"center\",\n",
        "                     color=\"white\" if conf_matrix[i, j] > thresh else \"black\")\n",
        "\n",
        "    plt.tight_layout()\n",
        "    plt.ylabel('True label')\n",
        "    plt.xlabel('Predicted label')\n",
        "    plt.show()\n",
        "\n",
        "# Function to generate confusion matrix and classification report\n",
        "def generate_confusion_matrix_and_report(model, validation_generator):\n",
        "    predictions, true_labels = generate_predictions(model, validation_generator)\n",
        "    conf_matrix = confusion_matrix(true_labels, predictions)\n",
        "    report = classification_report(true_labels, predictions, target_names=['Happy', 'Not-happy'])\n",
        "    return conf_matrix, report\n",
        "\n",
        "conf_matrix, report = generate_confusion_matrix_and_report(model, validation_generator)\n",
        "print(\"\\nClassification Report:\\n\", report)\n",
        "plot_confusion_matrix(conf_matrix, ['Happy', 'Not-happy'])\n"
      ],
      "metadata": {
        "colab": {
          "base_uri": "https://localhost:8080/",
          "height": 703
        },
        "id": "aJXkJ12T-y03",
        "outputId": "16645027-6223-4a98-fe7b-b5062e85c259"
      },
      "execution_count": null,
      "outputs": [
        {
          "output_type": "stream",
          "name": "stdout",
          "text": [
            "146/146 [==============================] - 12s 79ms/step\n",
            "\n",
            "Classification Report:\n",
            "               precision    recall  f1-score   support\n",
            "\n",
            "       Happy       0.38      0.36      0.37      1774\n",
            "   Not-happy       0.62      0.63      0.62      2888\n",
            "\n",
            "    accuracy                           0.53      4662\n",
            "   macro avg       0.50      0.50      0.50      4662\n",
            "weighted avg       0.52      0.53      0.53      4662\n",
            "\n"
          ]
        },
        {
          "output_type": "display_data",
          "data": {
            "text/plain": [
              "<Figure size 640x480 with 2 Axes>"
            ],
            "image/png": "[encoded data removed]"
          },
          "metadata": {}
        }
      ]
    },
    {
      "cell_type": "markdown",
      "source": [
        "###Fine-tune pre-trained model with pruning"
      ],
      "metadata": {
        "id": "Hli0rZ-Sxrie"
      }
    },
    {
      "cell_type": "code",
      "source": [
        "import tensorflow_model_optimization as tfmot\n",
        "\n",
        "prune_low_magnitude = tfmot.sparsity.keras.prune_low_magnitude\n",
        "\n",
        "# Compute end step to finish pruning after 2 epochs.\n",
        "batch_size = 32\n",
        "epochs = 4\n",
        "\n",
        "num_images = train_generator.n\n",
        "end_step = np.ceil(num_images / batch_size).astype(np.int32) * epochs\n",
        "\n",
        "# Define model for pruning.\n",
        "pruning_params = {\n",
        "      'pruning_schedule': tfmot.sparsity.keras.PolynomialDecay(initial_sparsity = 0.50,\n",
        "                                                               final_sparsity = 0.80,\n",
        "                                                               begin_step = 0,\n",
        "                                                               end_step = end_step)}\n",
        "\n",
        "model_for_pruning = prune_low_magnitude(model, **pruning_params)\n",
        "\n",
        "# `prune_low_magnitude` requires a recompile.\n",
        "model_for_pruning.compile(optimizer = 'adam',\n",
        "              loss = keras.losses.binary_crossentropy,\n",
        "              metrics = ['accuracy'])\n",
        "\n",
        "model_for_pruning.summary()"
      ],
      "metadata": {
        "colab": {
          "base_uri": "https://localhost:8080/"
        },
        "id": "eyqih5j4VNw-",
        "outputId": "657325ca-79d2-49e5-e899-b0e14e13fb30"
      },
      "execution_count": null,
      "outputs": [
        {
          "output_type": "stream",
          "name": "stdout",
          "text": [
            "Model: \"sequential\"\n",
            "_________________________________________________________________\n",
            " Layer (type)                Output Shape              Param #   \n",
            "=================================================================\n",
            " prune_low_magnitude_conv2d  (None, 46, 46, 32)        1762      \n",
            "  (PruneLowMagnitude)                                            \n",
            "                                                                 \n",
            " prune_low_magnitude_max_po  (None, 23, 23, 32)        1         \n",
            " oling2d (PruneLowMagnitude                                      \n",
            " )                                                               \n",
            "                                                                 \n",
            " prune_low_magnitude_conv2d  (None, 21, 21, 64)        36930     \n",
            " _1 (PruneLowMagnitude)                                          \n",
            "                                                                 \n",
            " prune_low_magnitude_max_po  (None, 10, 10, 64)        1         \n",
            " oling2d_1 (PruneLowMagnitu                                      \n",
            " de)                                                             \n",
            "                                                                 \n",
            " prune_low_magnitude_conv2d  (None, 8, 8, 128)         147586    \n",
            " _2 (PruneLowMagnitude)                                          \n",
            "                                                                 \n",
            " prune_low_magnitude_max_po  (None, 4, 4, 128)         1         \n",
            " oling2d_2 (PruneLowMagnitu                                      \n",
            " de)                                                             \n",
            "                                                                 \n",
            " prune_low_magnitude_conv2d  (None, 2, 2, 128)         295042    \n",
            " _3 (PruneLowMagnitude)                                          \n",
            "                                                                 \n",
            " prune_low_magnitude_max_po  (None, 1, 1, 128)         1         \n",
            " oling2d_3 (PruneLowMagnitu                                      \n",
            " de)                                                             \n",
            "                                                                 \n",
            " prune_low_magnitude_flatte  (None, 128)               1         \n",
            " n (PruneLowMagnitude)                                           \n",
            "                                                                 \n",
            " prune_low_magnitude_dense   (None, 512)               131586    \n",
            " (PruneLowMagnitude)                                             \n",
            "                                                                 \n",
            " prune_low_magnitude_dense_  (None, 1)                 1027      \n",
            " 1 (PruneLowMagnitude)                                           \n",
            "                                                                 \n",
            "=================================================================\n",
            "Total params: 613938 (2.34 MB)\n",
            "Trainable params: 307393 (1.17 MB)\n",
            "Non-trainable params: 306545 (1.17 MB)\n",
            "_________________________________________________________________\n"
          ]
        }
      ]
    },
    {
      "cell_type": "code",
      "source": [
        "# Create a temporary directory to store log files\n",
        "logdir = tempfile.mkdtemp()\n",
        "\n",
        "# Set up callbacks for model pruning during training:\n",
        "callbacks = [\n",
        "  tfmot.sparsity.keras.UpdatePruningStep(),\n",
        "  tfmot.sparsity.keras.PruningSummaries(log_dir = logdir),\n",
        "]\n",
        "\n",
        "#Train model:\n",
        "model_for_pruning.fit(train_generator,\n",
        "                      batch_size = batch_size,\n",
        "                      epochs = epochs,\n",
        "                      callbacks = callbacks)"
      ],
      "metadata": {
        "colab": {
          "base_uri": "https://localhost:8080/"
        },
        "id": "Lf26boLhVNsb",
        "outputId": "87e33d45-b7b4-4a14-fb69-439156cee8a1"
      },
      "execution_count": null,
      "outputs": [
        {
          "output_type": "stream",
          "name": "stdout",
          "text": [
            "Epoch 1/4\n",
            "762/762 [==============================] - 124s 154ms/step - loss: 0.4228 - accuracy: 0.8022\n",
            "Epoch 2/4\n",
            "762/762 [==============================] - 120s 158ms/step - loss: 0.4204 - accuracy: 0.8039\n",
            "Epoch 3/4\n",
            "762/762 [==============================] - 120s 158ms/step - loss: 0.4104 - accuracy: 0.8100\n",
            "Epoch 4/4\n",
            "762/762 [==============================] - 119s 156ms/step - loss: 0.4082 - accuracy: 0.8115\n"
          ]
        },
        {
          "output_type": "execute_result",
          "data": {
            "text/plain": [
              "<keras.src.callbacks.History at 0x7c8f0482eb60>"
            ]
          },
          "metadata": {},
          "execution_count": 21
        }
      ]
    },
    {
      "cell_type": "code",
      "source": [
        "#Accuracy\n",
        "_, model_for_pruning_accuracy = model_for_pruning.evaluate(test_generator, verbose = 0)\n",
        "\n",
        "print('Baseline test accuracy:', baseline_model_accuracy)\n",
        "print('Pruned test accuracy:', model_for_pruning_accuracy)"
      ],
      "metadata": {
        "colab": {
          "base_uri": "https://localhost:8080/"
        },
        "id": "LUphKyvvVYhq",
        "outputId": "bd3170db-9f96-4767-9061-b252c6cac265"
      },
      "execution_count": null,
      "outputs": [
        {
          "output_type": "stream",
          "name": "stdout",
          "text": [
            "Baseline test accuracy: 0.8522093296051025\n",
            "Pruned test accuracy: 0.8569283485412598\n"
          ]
        }
      ]
    },
    {
      "cell_type": "markdown",
      "source": [
        "###Create 3x smaller models from pruning"
      ],
      "metadata": {
        "id": "dXYl_kROx9vC"
      }
    },
    {
      "cell_type": "code",
      "source": [
        "model_for_export = tfmot.sparsity.keras.strip_pruning(model_for_pruning)\n",
        "\n",
        "_, pruned_keras_file = tempfile.mkstemp('.h5')\n",
        "keras.models.save_model(model_for_export, pruned_keras_file, include_optimizer=False)\n",
        "print('Saved pruned Keras model to:', pruned_keras_file)"
      ],
      "metadata": {
        "colab": {
          "base_uri": "https://localhost:8080/"
        },
        "id": "0MtZomLJVg-A",
        "outputId": "a540b806-4cad-4fad-80d0-df45653bb87b"
      },
      "execution_count": null,
      "outputs": [
        {
          "output_type": "stream",
          "name": "stderr",
          "text": [
            "<ipython-input-23-395ce8c5b5c5>:4: UserWarning: You are saving your model as an HDF5 file via `model.save()`. This file format is considered legacy. We recommend using instead the native Keras format, e.g. `model.save('my_model.keras')`.\n",
            "  keras.models.save_model(model_for_export, pruned_keras_file, include_optimizer=False)\n",
            "WARNING:tensorflow:Compiled the loaded model, but the compiled metrics have yet to be built. `model.compile_metrics` will be empty until you train or evaluate the model.\n"
          ]
        },
        {
          "output_type": "stream",
          "name": "stdout",
          "text": [
            "Saved pruned Keras model to: /tmp/tmpmxktaijq.h5\n"
          ]
        }
      ]
    },
    {
      "cell_type": "code",
      "source": [
        "converter = tf.lite.TFLiteConverter.from_keras_model(model_for_export)\n",
        "pruned_tflite_model = converter.convert()\n",
        "\n",
        "_, pruned_tflite_file = tempfile.mkstemp('.tflite')\n",
        "\n",
        "with open(pruned_tflite_file, 'wb') as f:\n",
        "  f.write(pruned_tflite_model)\n",
        "\n",
        "print('Saved pruned TFLite model to:', pruned_tflite_file)"
      ],
      "metadata": {
        "colab": {
          "base_uri": "https://localhost:8080/"
        },
        "id": "G6cFvky8VsmK",
        "outputId": "7353ed9d-d7de-45a1-aa24-2a806f1643c2"
      },
      "execution_count": null,
      "outputs": [
        {
          "output_type": "stream",
          "name": "stdout",
          "text": [
            "Saved pruned TFLite model to: /tmp/tmpuhsieggo.tflite\n"
          ]
        }
      ]
    },
    {
      "cell_type": "code",
      "source": [
        "def get_gzipped_model_size(file):\n",
        "  # Returns size of gzipped model, in bytes.\n",
        "  import os\n",
        "  import zipfile\n",
        "\n",
        "  _, zipped_file = tempfile.mkstemp('.zip')\n",
        "  with zipfile.ZipFile(zipped_file, 'w', compression=zipfile.ZIP_DEFLATED) as f:\n",
        "    f.write(file)\n",
        "\n",
        "  return os.path.getsize(zipped_file)"
      ],
      "metadata": {
        "id": "aUAEsZyXVwTK"
      },
      "execution_count": null,
      "outputs": []
    },
    {
      "cell_type": "code",
      "source": [
        "print(\"Size of gzipped baseline Keras model: %.2f bytes\" % (get_gzipped_model_size(keras_file)))\n",
        "print(\"Size of gzipped pruned Keras model: %.2f bytes\" % (get_gzipped_model_size(pruned_keras_file)))\n",
        "print(\"Size of gzipped pruned TFlite model: %.2f bytes\" % (get_gzipped_model_size(pruned_tflite_file)))"
      ],
      "metadata": {
        "colab": {
          "base_uri": "https://localhost:8080/"
        },
        "id": "ehlrahC82_KO",
        "outputId": "3b677046-594c-4459-9ee1-f26127cd995a"
      },
      "execution_count": null,
      "outputs": [
        {
          "output_type": "stream",
          "name": "stdout",
          "text": [
            "Size of gzipped baseline Keras model: 1144838.00 bytes\n",
            "Size of gzipped pruned Keras model: 366815.00 bytes\n",
            "Size of gzipped pruned TFlite model: 365435.00 bytes\n"
          ]
        }
      ]
    },
    {
      "cell_type": "markdown",
      "source": [
        "###Create a 10x smaller model from combining pruning and quantization"
      ],
      "metadata": {
        "id": "qWh_gvhVyK1r"
      }
    },
    {
      "cell_type": "code",
      "source": [
        "converter = tf.lite.TFLiteConverter.from_keras_model(model_for_export)\n",
        "converter.optimizations = [tf.lite.Optimize.DEFAULT]\n",
        "quantized_and_pruned_tflite_model = converter.convert()\n",
        "\n",
        "_, quantized_and_pruned_tflite_file = tempfile.mkstemp('.tflite')\n",
        "\n",
        "with open(quantized_and_pruned_tflite_file, 'wb') as f:\n",
        "  f.write(quantized_and_pruned_tflite_model)\n",
        "\n",
        "print('Saved quantized and pruned TFLite model to:', quantized_and_pruned_tflite_file)\n",
        "\n",
        "print(\"Size of gzipped baseline Keras model: %.2f bytes\" % (get_gzipped_model_size(keras_file)))\n",
        "print(\"Size of gzipped pruned and quantized TFlite model: %.2f bytes\" % (get_gzipped_model_size(quantized_and_pruned_tflite_file)))"
      ],
      "metadata": {
        "colab": {
          "base_uri": "https://localhost:8080/"
        },
        "id": "VwhVrIJ2V0ac",
        "outputId": "3cf15a35-3082-4f81-b23b-04cd642d1e60"
      },
      "execution_count": null,
      "outputs": [
        {
          "output_type": "stream",
          "name": "stdout",
          "text": [
            "Saved quantized and pruned TFLite model to: /tmp/tmpk5dtpj6l.tflite\n",
            "Size of gzipped baseline Keras model: 1144838.00 bytes\n",
            "Size of gzipped pruned and quantized TFlite model: 112481.00 bytes\n"
          ]
        }
      ]
    },
    {
      "cell_type": "markdown",
      "source": [
        "###See persistence of accuracy from TF to TFLite"
      ],
      "metadata": {
        "id": "XsaUZ60gyNLU"
      }
    },
    {
      "cell_type": "code",
      "source": [
        "def evaluate_model_using_generator_binary(interpreter, test_generator):\n",
        "    input_index = interpreter.get_input_details()[0][\"index\"]\n",
        "    output_index = interpreter.get_output_details()[0][\"index\"]\n",
        "\n",
        "    prediction_digits = []\n",
        "    true_labels = []\n",
        "    total_batches = test_generator.samples // test_generator.batch_size\n",
        "\n",
        "    for i, (batch_images, batch_labels) in enumerate(test_generator):\n",
        "        # Print updates every 10 batches\n",
        "        if i % 10 == 0:\n",
        "            print(f'Evaluated on {i} batches so far, out of {total_batches}')\n",
        "\n",
        "        for test_image in batch_images:\n",
        "            # Pre-processing: add batch dimension and convert to float32 to match with the model's input data format.\n",
        "            test_image = np.expand_dims(test_image, axis=0).astype(np.float32)\n",
        "            interpreter.set_tensor(input_index, test_image)\n",
        "            interpreter.invoke()\n",
        "\n",
        "            # Post-processing: find the probability of the positive class.\n",
        "            output = interpreter.get_tensor(output_index)\n",
        "            probability = output[0][0]  # Assuming the output is a single sigmoid activation\n",
        "            digit = 1 if probability > 0.5 else 0\n",
        "            prediction_digits.append(digit)\n",
        "\n",
        "        true_labels.extend(batch_labels)\n",
        "\n",
        "        # Stop the loop once all batches have been processed\n",
        "        if i >= total_batches - 1:\n",
        "            break\n",
        "\n",
        "    prediction_digits = np.array(prediction_digits)\n",
        "    true_labels = np.array(true_labels)\n",
        "    accuracy = (prediction_digits == true_labels).mean()\n",
        "    return accuracy\n"
      ],
      "metadata": {
        "id": "Qwlr1O9AXXkI"
      },
      "execution_count": null,
      "outputs": []
    },
    {
      "cell_type": "code",
      "source": [
        "# Path to your TFLite model\n",
        "\n",
        "# Load the model\n",
        "interpreter = tf.lite.Interpreter(model_content=quantized_and_pruned_tflite_model)\n",
        "interpreter.allocate_tensors()\n",
        "\n",
        "# Assuming 'test_generator' is already set up and ready to use\n",
        "accuracy = evaluate_model_using_generator_binary(interpreter, test_generator)\n",
        "print('Baseline test accuracy:', baseline_model_accuracy)\n",
        "print('Pruned test accuracy:', model_for_pruning_accuracy)\n",
        "print('Pruned and quantized TFLite test_accuracy:', accuracy)"
      ],
      "metadata": {
        "colab": {
          "base_uri": "https://localhost:8080/"
        },
        "id": "P3Dy7WxnpQBO",
        "outputId": "186555af-7d2d-4883-bc4e-282f25f76c42"
      },
      "execution_count": null,
      "outputs": [
        {
          "output_type": "stream",
          "name": "stdout",
          "text": [
            "Evaluated on 0 batches so far, out of 145\n",
            "Evaluated on 10 batches so far, out of 145\n",
            "Evaluated on 20 batches so far, out of 145\n",
            "Evaluated on 30 batches so far, out of 145\n",
            "Evaluated on 40 batches so far, out of 145\n",
            "Evaluated on 50 batches so far, out of 145\n",
            "Evaluated on 60 batches so far, out of 145\n",
            "Evaluated on 70 batches so far, out of 145\n",
            "Evaluated on 80 batches so far, out of 145\n",
            "Evaluated on 90 batches so far, out of 145\n",
            "Evaluated on 100 batches so far, out of 145\n",
            "Evaluated on 110 batches so far, out of 145\n",
            "Evaluated on 120 batches so far, out of 145\n",
            "Evaluated on 130 batches so far, out of 145\n",
            "Evaluated on 140 batches so far, out of 145\n",
            "Baseline test accuracy: 0.8522093296051025\n",
            "Pruned test accuracy: 0.8569283485412598\n",
            "Pruned and quantized TFLite test_accuracy: 0.8565874730021599\n"
          ]
        }
      ]
    },
    {
      "cell_type": "code",
      "source": [],
      "metadata": {
        "id": "e1Rdxo0ppTWT"
      },
      "execution_count": null,
      "outputs": []
    }
  ]
}